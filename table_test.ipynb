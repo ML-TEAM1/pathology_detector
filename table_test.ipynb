{
 "cells": [
  {
   "cell_type": "code",
   "execution_count": 2,
   "metadata": {},
   "outputs": [],
   "source": [
    "import openpyxl\n",
    "import os"
   ]
  },
  {
   "cell_type": "code",
   "execution_count": 3,
   "metadata": {
    "tags": [
     "parameters"
    ]
   },
   "outputs": [],
   "source": [
    "_from_ = '/usr/data/shared_directory/team_1/notebooks/training_pipeline/output'\n",
    "_to_ = '/usr/data/shared_directory/team_1/notebooks/training_pipeline/experiments'\n",
    "_from_name_ = 'effNetTest'\n",
    "_to_name_ = 'cringe'\n",
    "_description_ = 'another cringe'"
   ]
  },
  {
   "cell_type": "code",
   "execution_count": 13,
   "metadata": {},
   "outputs": [],
   "source": [
    "book = openpyxl.load_workbook('/usr/data/shared_directory/team_1/notebooks/training_pipeline/experiments/description.xlsx')"
   ]
  },
  {
   "cell_type": "code",
   "execution_count": 14,
   "metadata": {},
   "outputs": [],
   "source": [
    "sheet = book.active"
   ]
  },
  {
   "cell_type": "code",
   "execution_count": 6,
   "metadata": {},
   "outputs": [],
   "source": [
    "data = [_to_name_,'тут должны быть данные, верь мне',_description_]"
   ]
  },
  {
   "cell_type": "code",
   "execution_count": 11,
   "metadata": {},
   "outputs": [
    {
     "name": "stdout",
     "output_type": "stream",
     "text": [
      "cp -r \"/usr/data/shared_directory/team_1/notebooks/training_pipeline/output/effNetTest/.\" \"/usr/data/shared_directory/team_1/notebooks/training_pipeline/experiments/cringe\"\n",
      "данные скопированы\n"
     ]
    }
   ],
   "source": [
    "path_from = _from_+'/'+_from_name_\n",
    "if os.path.exists(path_from):\n",
    "    path_from = path_from + '/.'\n",
    "    path_to = _to_ + '/'+_to_name_\n",
    "    if not os.path.exists(path_to):\n",
    "        cmd = 'cp -r \"'+path_from+'\" \"'+path_to+'\"'\n",
    "        res = os.system(cmd)\n",
    "        if res==0:\n",
    "            sheet.append(data)\n",
    "            print('данные скопированы')\n",
    "        else:\n",
    "            print('ошибки при копировании')\n",
    "    else:\n",
    "        print('эксперимент уже проведен')\n",
    "else:\n",
    "    print('не существует такой папки с данными')"
   ]
  },
  {
   "cell_type": "code",
   "execution_count": 16,
   "metadata": {},
   "outputs": [],
   "source": [
    "book.save('/usr/data/shared_directory/team_1/notebooks/training_pipeline/experiments/description.xlsx')"
   ]
  },
  {
   "cell_type": "code",
   "execution_count": 17,
   "metadata": {},
   "outputs": [],
   "source": [
    "#создание чистой таблички\n",
    "#только работа ручками\n",
    "#book = openpyxl.Workbook()\n",
    "#sheet = book.create_sheet('data')\n",
    "#book.save('/usr/data/shared_directory/team_1/notebooks/training_pipeline/experiments/description.xlsx')"
   ]
  }
 ],
 "metadata": {
  "celltoolbar": "Tags",
  "kernelspec": {
   "display_name": "Python 3",
   "language": "python",
   "name": "python3"
  },
  "language_info": {
   "codemirror_mode": {
    "name": "ipython",
    "version": 3
   },
   "file_extension": ".py",
   "mimetype": "text/x-python",
   "name": "python",
   "nbconvert_exporter": "python",
   "pygments_lexer": "ipython3",
   "version": "3.7.6"
  }
 },
 "nbformat": 4,
 "nbformat_minor": 4
}
